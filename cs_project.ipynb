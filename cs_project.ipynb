{
 "cells": [
  {
   "cell_type": "code",
   "execution_count": 3,
   "metadata": {},
   "outputs": [],
   "source": []
  },
  {
   "cell_type": "code",
   "execution_count": 6,
   "metadata": {},
   "outputs": [
    {
     "name": "stdout",
     "output_type": "stream",
     "text": [
      "earth_date_time         object\n",
      "mars_date_time          object\n",
      "sol_number              object\n",
      "max_ground_temp(°C)    float64\n",
      "min_ground_temp(°C)    float64\n",
      "max_air_temp(°C)        object\n",
      "min_air_temp(°C)        object\n",
      "mean_pressure(Pa)       object\n",
      "wind_speed(m/h)         object\n",
      "humidity(%)             object\n",
      "sunrise                 object\n",
      "sunset                  object\n",
      "UV_Radiation            object\n",
      "weather                 object\n",
      "dtype: object\n"
     ]
    },
    {
     "ename": "ImportError",
     "evalue": "Failed to import any of the following Qt binding modules: PyQt6, PySide6, PyQt5, PySide2",
     "output_type": "error",
     "traceback": [
      "\u001b[0;31m---------------------------------------------------------------------------\u001b[0m",
      "\u001b[0;31mImportError\u001b[0m                               Traceback (most recent call last)",
      "Cell \u001b[0;32mIn[6], line 2\u001b[0m\n\u001b[1;32m      1\u001b[0m \u001b[39mprint\u001b[39m(df\u001b[39m.\u001b[39mdtypes)\n\u001b[0;32m----> 2\u001b[0m plt\u001b[39m.\u001b[39;49mswitch_backend(\u001b[39m'\u001b[39;49m\u001b[39mQt5Agg\u001b[39;49m\u001b[39m'\u001b[39;49m)\n",
      "File \u001b[0;32m~/opt/miniconda3/envs/WIHSG/lib/python3.10/site-packages/matplotlib/pyplot.py:271\u001b[0m, in \u001b[0;36mswitch_backend\u001b[0;34m(newbackend)\u001b[0m\n\u001b[1;32m    268\u001b[0m \u001b[39m# have to escape the switch on access logic\u001b[39;00m\n\u001b[1;32m    269\u001b[0m old_backend \u001b[39m=\u001b[39m \u001b[39mdict\u001b[39m\u001b[39m.\u001b[39m\u001b[39m__getitem__\u001b[39m(rcParams, \u001b[39m'\u001b[39m\u001b[39mbackend\u001b[39m\u001b[39m'\u001b[39m)\n\u001b[0;32m--> 271\u001b[0m backend_mod \u001b[39m=\u001b[39m importlib\u001b[39m.\u001b[39;49mimport_module(\n\u001b[1;32m    272\u001b[0m     cbook\u001b[39m.\u001b[39;49m_backend_module_name(newbackend))\n\u001b[1;32m    274\u001b[0m required_framework \u001b[39m=\u001b[39m _get_required_interactive_framework(backend_mod)\n\u001b[1;32m    275\u001b[0m \u001b[39mif\u001b[39;00m required_framework \u001b[39mis\u001b[39;00m \u001b[39mnot\u001b[39;00m \u001b[39mNone\u001b[39;00m:\n",
      "File \u001b[0;32m~/opt/miniconda3/envs/WIHSG/lib/python3.10/importlib/__init__.py:126\u001b[0m, in \u001b[0;36mimport_module\u001b[0;34m(name, package)\u001b[0m\n\u001b[1;32m    124\u001b[0m             \u001b[39mbreak\u001b[39;00m\n\u001b[1;32m    125\u001b[0m         level \u001b[39m+\u001b[39m\u001b[39m=\u001b[39m \u001b[39m1\u001b[39m\n\u001b[0;32m--> 126\u001b[0m \u001b[39mreturn\u001b[39;00m _bootstrap\u001b[39m.\u001b[39;49m_gcd_import(name[level:], package, level)\n",
      "File \u001b[0;32m<frozen importlib._bootstrap>:1050\u001b[0m, in \u001b[0;36m_gcd_import\u001b[0;34m(name, package, level)\u001b[0m\n",
      "File \u001b[0;32m<frozen importlib._bootstrap>:1027\u001b[0m, in \u001b[0;36m_find_and_load\u001b[0;34m(name, import_)\u001b[0m\n",
      "File \u001b[0;32m<frozen importlib._bootstrap>:1006\u001b[0m, in \u001b[0;36m_find_and_load_unlocked\u001b[0;34m(name, import_)\u001b[0m\n",
      "File \u001b[0;32m<frozen importlib._bootstrap>:688\u001b[0m, in \u001b[0;36m_load_unlocked\u001b[0;34m(spec)\u001b[0m\n",
      "File \u001b[0;32m<frozen importlib._bootstrap_external>:883\u001b[0m, in \u001b[0;36mexec_module\u001b[0;34m(self, module)\u001b[0m\n",
      "File \u001b[0;32m<frozen importlib._bootstrap>:241\u001b[0m, in \u001b[0;36m_call_with_frames_removed\u001b[0;34m(f, *args, **kwds)\u001b[0m\n",
      "File \u001b[0;32m~/opt/miniconda3/envs/WIHSG/lib/python3.10/site-packages/matplotlib/backends/backend_qt5agg.py:7\u001b[0m\n\u001b[1;32m      4\u001b[0m \u001b[39mfrom\u001b[39;00m \u001b[39m.\u001b[39;00m\u001b[39m.\u001b[39;00m \u001b[39mimport\u001b[39;00m backends\n\u001b[1;32m      6\u001b[0m backends\u001b[39m.\u001b[39m_QT_FORCE_QT5_BINDING \u001b[39m=\u001b[39m \u001b[39mTrue\u001b[39;00m\n\u001b[0;32m----> 7\u001b[0m \u001b[39mfrom\u001b[39;00m \u001b[39m.\u001b[39;00m\u001b[39mbackend_qtagg\u001b[39;00m \u001b[39mimport\u001b[39;00m (    \u001b[39m# noqa: F401, E402 # pylint: disable=W0611\u001b[39;00m\n\u001b[1;32m      8\u001b[0m     _BackendQTAgg, FigureCanvasQTAgg, FigureManagerQT, NavigationToolbar2QT,\n\u001b[1;32m      9\u001b[0m     FigureCanvasAgg, FigureCanvasQT)\n\u001b[1;32m     12\u001b[0m \u001b[39m@_BackendQTAgg\u001b[39m\u001b[39m.\u001b[39mexport\n\u001b[1;32m     13\u001b[0m \u001b[39mclass\u001b[39;00m \u001b[39m_BackendQT5Agg\u001b[39;00m(_BackendQTAgg):\n\u001b[1;32m     14\u001b[0m     \u001b[39mpass\u001b[39;00m\n",
      "File \u001b[0;32m~/opt/miniconda3/envs/WIHSG/lib/python3.10/site-packages/matplotlib/backends/backend_qtagg.py:9\u001b[0m\n\u001b[1;32m      5\u001b[0m \u001b[39mimport\u001b[39;00m \u001b[39mctypes\u001b[39;00m\n\u001b[1;32m      7\u001b[0m \u001b[39mfrom\u001b[39;00m \u001b[39mmatplotlib\u001b[39;00m\u001b[39m.\u001b[39;00m\u001b[39mtransforms\u001b[39;00m \u001b[39mimport\u001b[39;00m Bbox\n\u001b[0;32m----> 9\u001b[0m \u001b[39mfrom\u001b[39;00m \u001b[39m.\u001b[39;00m\u001b[39mqt_compat\u001b[39;00m \u001b[39mimport\u001b[39;00m QT_API, _enum\n\u001b[1;32m     10\u001b[0m \u001b[39mfrom\u001b[39;00m \u001b[39m.\u001b[39;00m\u001b[39mbackend_agg\u001b[39;00m \u001b[39mimport\u001b[39;00m FigureCanvasAgg\n\u001b[1;32m     11\u001b[0m \u001b[39mfrom\u001b[39;00m \u001b[39m.\u001b[39;00m\u001b[39mbackend_qt\u001b[39;00m \u001b[39mimport\u001b[39;00m QtCore, QtGui, _BackendQT, FigureCanvasQT\n",
      "File \u001b[0;32m~/opt/miniconda3/envs/WIHSG/lib/python3.10/site-packages/matplotlib/backends/qt_compat.py:135\u001b[0m\n\u001b[1;32m    133\u001b[0m         \u001b[39mbreak\u001b[39;00m\n\u001b[1;32m    134\u001b[0m     \u001b[39melse\u001b[39;00m:\n\u001b[0;32m--> 135\u001b[0m         \u001b[39mraise\u001b[39;00m \u001b[39mImportError\u001b[39;00m(\n\u001b[1;32m    136\u001b[0m             \u001b[39m\"\u001b[39m\u001b[39mFailed to import any of the following Qt binding modules: \u001b[39m\u001b[39m{}\u001b[39;00m\u001b[39m\"\u001b[39m\n\u001b[1;32m    137\u001b[0m             \u001b[39m.\u001b[39mformat(\u001b[39m\"\u001b[39m\u001b[39m, \u001b[39m\u001b[39m\"\u001b[39m\u001b[39m.\u001b[39mjoin(_ETS\u001b[39m.\u001b[39mvalues())))\n\u001b[1;32m    138\u001b[0m \u001b[39melse\u001b[39;00m:  \u001b[39m# We should not get there.\u001b[39;00m\n\u001b[1;32m    139\u001b[0m     \u001b[39mraise\u001b[39;00m \u001b[39mAssertionError\u001b[39;00m(\u001b[39mf\u001b[39m\u001b[39m\"\u001b[39m\u001b[39mUnexpected QT_API: \u001b[39m\u001b[39m{\u001b[39;00mQT_API\u001b[39m}\u001b[39;00m\u001b[39m\"\u001b[39m)\n",
      "\u001b[0;31mImportError\u001b[0m: Failed to import any of the following Qt binding modules: PyQt6, PySide6, PyQt5, PySide2"
     ]
    }
   ],
   "source": [
    "print(df.dtypes)\n",
    "\n"
   ]
  },
  {
   "cell_type": "code",
   "execution_count": 27,
   "metadata": {},
   "outputs": [
    {
     "name": "stdout",
     "output_type": "stream",
     "text": [
      "  earth_date_time           mars_date_time  sol_number  max_ground_temp(°C)  \\\n",
      "0      2022-01-26  Mars, Month 6 - LS 163°        3368                 -3.0   \n",
      "1      2022-01-25  Mars, Month 6 - LS 163°        3367                 -3.0   \n",
      "2      2022-01-24  Mars, Month 6 - LS 162°        3366                 -4.0   \n",
      "3      2022-01-23  Mars, Month 6 - LS 162°        3365                 -6.0   \n",
      "4      2022-01-22  Mars, Month 6 - LS 161°        3364                 -7.0   \n",
      "\n",
      "   min_ground_temp(°C)  max_air_temp(°C)  min_air_temp(°C)  mean_pressure(Pa)  \\\n",
      "0                -71.0              10.0             -84.0              707.0   \n",
      "1                -72.0              10.0             -87.0              707.0   \n",
      "2                -70.0               8.0             -81.0              708.0   \n",
      "3                -70.0               9.0             -91.0              707.0   \n",
      "4                -71.0               8.0             -92.0              708.0   \n",
      "\n",
      "       wind_speed(m/h)          humidity(%) sunrise sunset UV_Radiation  \\\n",
      "0  Value not available  Value not available   05:25  17:20     moderate   \n",
      "1  Value not available  Value not available   05:25  17:20     moderate   \n",
      "2  Value not available  Value not available   05:25  17:21     moderate   \n",
      "3  Value not available  Value not available   05:26  17:21     moderate   \n",
      "4  Value not available  Value not available   05:26  17:21     moderate   \n",
      "\n",
      "  weather  \n",
      "0   Sunny  \n",
      "1   Sunny  \n",
      "2   Sunny  \n",
      "3   Sunny  \n",
      "4   Sunny  \n"
     ]
    }
   ],
   "source": [
    "\n",
    "import streamlit as st\n",
    "import numpy as np\n",
    "import matplotlib.pyplot as plt\n",
    "import pandas as pd\n",
    "\n",
    "\n",
    "#current_dir = os.getcwd()\n",
    "#st.write(current_dir)\n",
    "df = pd.read_csv('/Users/joolslufft/Documents/Coding/WIHSG2/coding_project_streamlit/REMS_Mars_Dataset.csv')\n",
    "df['earth_date_time'] = pd.to_datetime(df['earth_date_time'].str.split(' ').str[1])\n",
    "df['sol_number'] = df['sol_number'].str.split(' ').str[1].astype(int)\n",
    "df['max_ground_temp(°C)'] = df['max_ground_temp(°C)'].replace('Value not available', np.nan).astype(float)\n",
    "df['min_ground_temp(°C)'] = df['min_ground_temp(°C)'].replace('Value not available', np.nan).astype(float)\n",
    "df['max_air_temp(°C)'] = df['max_air_temp(°C)'].replace('Value not available', np.nan).astype(float)\n",
    "df['min_air_temp(°C)'] = df['min_air_temp(°C)'].replace('Value not available', np.nan).astype(float)\n",
    "df['mean_pressure(Pa)'] = df['mean_pressure(Pa)'].replace('Value not available', np.nan).astype(float)\n",
    "\n",
    "print(df.head())"
   ]
  },
  {
   "cell_type": "code",
   "execution_count": 28,
   "metadata": {},
   "outputs": [
    {
     "name": "stdout",
     "output_type": "stream",
     "text": [
      "earth_date_time        datetime64[ns]\n",
      "mars_date_time                 object\n",
      "sol_number                      int64\n",
      "max_ground_temp(°C)           float64\n",
      "min_ground_temp(°C)           float64\n",
      "max_air_temp(°C)              float64\n",
      "min_air_temp(°C)              float64\n",
      "mean_pressure(Pa)             float64\n",
      "wind_speed(m/h)                object\n",
      "humidity(%)                    object\n",
      "sunrise                        object\n",
      "sunset                         object\n",
      "UV_Radiation                   object\n",
      "weather                        object\n",
      "dtype: object\n"
     ]
    },
    {
     "ename": "",
     "evalue": "",
     "output_type": "error",
     "traceback": [
      "\u001b[1;31mThe Kernel crashed while executing code in the the current cell or a previous cell. Please review the code in the cell(s) to identify a possible cause of the failure. Click <a href='https://aka.ms/vscodeJupyterKernelCrash'>here</a> for more info. View Jupyter <a href='command:jupyter.viewOutput'>log</a> for further details."
     ]
    }
   ],
   "source": [
    "print(df.dtypes)"
   ]
  },
  {
   "cell_type": "code",
   "execution_count": 21,
   "metadata": {},
   "outputs": [],
   "source": [
    "#df['earth_date_time'] = pd.to_datetime(df['earth_date_time'].str.split(' ').str[1])\n",
    "#df['sol_number'] = df['sol_number'].str.split(' ').str[1].astype(int)\n",
    "#df['max_ground_temp(°C)'] = df['max_ground_temp(°C)'].replace('Value not available', np.nan)\n",
    "#df['max_ground_temp(°C)'] = df['max_ground_temp(°C)'].astype(float)\n",
    "#df['min_ground_temp(°C)'] = df['min_ground_temp(°C)'].replace('Value not available', np.nan)\n",
    "#df['min_ground_temp(°C)'] = df['min_ground_temp(°C)'].astype(float)\n",
    "#df['max_air_temp(°C))'] = df['max_air_temp(°C)'].replace('Value not available', np.nan)\n",
    "df['max_air_temp(°C)'] = df['max_air_temp(°C)'].replace('Value not available', np.nan).astype(float)\n",
    "#print(df.dtypes)"
   ]
  },
  {
   "cell_type": "code",
   "execution_count": 24,
   "metadata": {},
   "outputs": [
    {
     "name": "stdout",
     "output_type": "stream",
     "text": [
      "earth_date_time        datetime64[ns]\n",
      "mars_date_time                 object\n",
      "sol_number                      int64\n",
      "max_ground_temp(°C)           float64\n",
      "min_ground_temp(°C)           float64\n",
      "max_air_temp(°C)               object\n",
      "min_air_temp(°C)               object\n",
      "mean_pressure(Pa)              object\n",
      "wind_speed(m/h)                object\n",
      "humidity(%)                    object\n",
      "sunrise                        object\n",
      "sunset                         object\n",
      "UV_Radiation                   object\n",
      "weather                        object\n",
      "dtype: object\n"
     ]
    }
   ],
   "source": [
    "print(df.dtypes)"
   ]
  },
  {
   "cell_type": "code",
   "execution_count": 17,
   "metadata": {},
   "outputs": [
    {
     "name": "stdout",
     "output_type": "stream",
     "text": [
      "     earth_date_time            mars_date_time  sol_number  \\\n",
      "2325      2015-03-26  Mars, Month 11 - LS 314°         937   \n",
      "2326      2015-03-25  Mars, Month 11 - LS 314°         936   \n",
      "2327      2015-03-24  Mars, Month 11 - LS 313°         935   \n",
      "2328      2015-03-23  Mars, Month 11 - LS 313°         934   \n",
      "2329      2015-03-22  Mars, Month 11 - LS 312°         933   \n",
      "\n",
      "      max_ground_temp(°C)  min_ground_temp(°C) max_air_temp(°C)  \\\n",
      "2325                  0.0                -73.0               10   \n",
      "2326                 -3.0                -72.0                9   \n",
      "2327                 -2.0                -75.0               10   \n",
      "2328                  1.0                -73.0                9   \n",
      "2329                 -4.0                -71.0               11   \n",
      "\n",
      "     min_air_temp(°C) mean_pressure(Pa)      wind_speed(m/h)  \\\n",
      "2325              -77               863  Value not available   \n",
      "2326              -75               865  Value not available   \n",
      "2327              -74               862  Value not available   \n",
      "2328              -75               858  Value not available   \n",
      "2329              -75               863  Value not available   \n",
      "\n",
      "              humidity(%) sunrise sunset UV_Radiation weather  \n",
      "2325  Value not available   06:42  18:54    very_high   Sunny  \n",
      "2326  Value not available   06:42  18:54    very_high   Sunny  \n",
      "2327  Value not available   06:42  18:54    very_high   Sunny  \n",
      "2328  Value not available   06:41  18:54    very_high   Sunny  \n",
      "2329  Value not available   06:41  18:54    very_high   Sunny  \n"
     ]
    }
   ],
   "source": [
    "print(df.iloc[2325:2330])"
   ]
  },
  {
   "cell_type": "code",
   "execution_count": null,
   "metadata": {},
   "outputs": [],
   "source": [
    "/Users/joolslufft/opt/miniconda3/envs"
   ]
  }
 ],
 "metadata": {
  "kernelspec": {
   "display_name": "Python 3.10.9 ('WIHSG')",
   "language": "python",
   "name": "python3"
  },
  "language_info": {
   "codemirror_mode": {
    "name": "ipython",
    "version": 3
   },
   "file_extension": ".py",
   "mimetype": "text/x-python",
   "name": "python",
   "nbconvert_exporter": "python",
   "pygments_lexer": "ipython3",
   "version": "3.10.9"
  },
  "orig_nbformat": 4,
  "vscode": {
   "interpreter": {
    "hash": "5a921226e20a71dce83c342e893ddcfbe423585cfa365e7624edcf56a3cd0db7"
   }
  }
 },
 "nbformat": 4,
 "nbformat_minor": 2
}
